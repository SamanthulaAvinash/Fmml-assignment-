{
  "nbformat": 4,
  "nbformat_minor": 0,
  "metadata": {
    "colab": {
      "provenance": [],
      "include_colab_link": true
    },
    "kernelspec": {
      "name": "python3",
      "display_name": "Python 3"
    },
    "language_info": {
      "name": "python"
    }
  },
  "cells": [
    {
      "cell_type": "markdown",
      "metadata": {
        "id": "view-in-github",
        "colab_type": "text"
      },
      "source": [
        "<a href=\"https://colab.research.google.com/github/SamanthulaAvinash/Fmml-assignment-/blob/main/Copy_of_Untitled16.ipynb\" target=\"_parent\"><img src=\"https://colab.research.google.com/assets/colab-badge.svg\" alt=\"Open In Colab\"/></a>"
      ]
    },
    {
      "cell_type": "markdown",
      "source": [
        "1 question answer"
      ],
      "metadata": {
        "id": "LX1LCXlICen8"
      }
    },
    {
      "cell_type": "code",
      "source": [
        "print (\"Twinkle, twinkle, little star\")\n",
        "print (\"\\tHow I wonder what you are!\")\n",
        "print (\"\\t\\tUp above the world so high,\")\n",
        "print (\"\\t\\tLike a diamond in the sky.\")\n",
        "\n",
        "print (\"Twinkle, twinkle, little star,\")\n",
        "print (\"\\tHow I wonder what you are!\")"
      ],
      "metadata": {
        "colab": {
          "base_uri": "https://localhost:8080/"
        },
        "id": "F0LAOwb8ChcD",
        "outputId": "c2d66b8f-ab4b-4a62-851f-b84012a98373"
      },
      "execution_count": null,
      "outputs": [
        {
          "output_type": "stream",
          "name": "stdout",
          "text": [
            "Twinkle, twinkle, little star\n",
            "\tHow I wonder what you are!\n",
            "\t\tUp above the world so high,\n",
            "\t\tLike a diamond in the sky.\n",
            "Twinkle, twinkle, little star,\n",
            "\tHow I wonder what you are!\n"
          ]
        }
      ]
    },
    {
      "cell_type": "markdown",
      "source": [
        "2 nd question answer"
      ],
      "metadata": {
        "id": "1QyPOjYbDx2i"
      }
    },
    {
      "cell_type": "code",
      "source": [
        "import sys\n",
        "print (sys.version)"
      ],
      "metadata": {
        "colab": {
          "base_uri": "https://localhost:8080/"
        },
        "id": "PwWG93OVD1JS",
        "outputId": "4a84e270-1a1d-431b-daf0-d82dc73ee213"
      },
      "execution_count": null,
      "outputs": [
        {
          "output_type": "stream",
          "name": "stdout",
          "text": [
            "3.10.12 (main, Jun 11 2023, 05:26:28) [GCC 11.4.0]\n"
          ]
        }
      ]
    },
    {
      "cell_type": "markdown",
      "source": [
        "3 rd question answer"
      ],
      "metadata": {
        "id": "vlEtwZ0RE6ia"
      }
    },
    {
      "cell_type": "code",
      "source": [
        "import datetime\n",
        "n=datetime.datetime.now()\n",
        "print (n)"
      ],
      "metadata": {
        "colab": {
          "base_uri": "https://localhost:8080/"
        },
        "id": "MsbIbjhcFBEf",
        "outputId": "51356932-ddcb-43d8-9c03-35b3cc8577d2"
      },
      "execution_count": null,
      "outputs": [
        {
          "output_type": "stream",
          "name": "stdout",
          "text": [
            "2023-10-02 15:51:51.629273\n"
          ]
        }
      ]
    },
    {
      "cell_type": "markdown",
      "source": [
        "4 th question answer"
      ],
      "metadata": {
        "id": "2AnXsZ5jFue4"
      }
    },
    {
      "cell_type": "code",
      "source": [
        "i=int(input ())\n",
        "p=3.13159\n",
        "r=p*(i**2)\n",
        "print (r)"
      ],
      "metadata": {
        "colab": {
          "base_uri": "https://localhost:8080/"
        },
        "id": "7JYjz7-KFymX",
        "outputId": "9b505ee8-ac77-42e5-d30b-5fbdd43788e1"
      },
      "execution_count": null,
      "outputs": [
        {
          "output_type": "stream",
          "name": "stdout",
          "text": [
            "5\n",
            "78.28975\n"
          ]
        }
      ]
    },
    {
      "cell_type": "markdown",
      "source": [
        "5 th answer"
      ],
      "metadata": {
        "id": "EcYiXKhyJsA-"
      }
    },
    {
      "cell_type": "code",
      "source": [
        "a=\"veera \"\n",
        "b=\"nama \"\n",
        "print (b+a)"
      ],
      "metadata": {
        "colab": {
          "base_uri": "https://localhost:8080/"
        },
        "id": "ycJ_rgogJxbp",
        "outputId": "142f755e-8aec-4e38-b4ee-cf710d0e08f9"
      },
      "execution_count": null,
      "outputs": [
        {
          "output_type": "stream",
          "name": "stdout",
          "text": [
            "nama veera \n"
          ]
        }
      ]
    },
    {
      "cell_type": "markdown",
      "source": [
        "6 th question answer"
      ],
      "metadata": {
        "id": "ke108UA1KQ4u"
      }
    },
    {
      "cell_type": "code",
      "source": [
        "a=6,7,8,9\n",
        "print (list(a))\n",
        "print (tuple (a))"
      ],
      "metadata": {
        "colab": {
          "base_uri": "https://localhost:8080/"
        },
        "id": "jWdom4BMKVzF",
        "outputId": "3d1f2d2f-9db0-47d6-f3d1-a099510aa9c6"
      },
      "execution_count": null,
      "outputs": [
        {
          "output_type": "stream",
          "name": "stdout",
          "text": [
            "[6, 7, 8, 9]\n",
            "(6, 7, 8, 9)\n"
          ]
        }
      ]
    }
  ]
}